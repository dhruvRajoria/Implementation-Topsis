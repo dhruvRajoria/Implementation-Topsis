{
 "cells": [
  {
   "cell_type": "code",
   "execution_count": 11,
   "id": "37efcafa",
   "metadata": {},
   "outputs": [
    {
     "data": {
      "text/html": [
       "<div>\n",
       "<style scoped>\n",
       "    .dataframe tbody tr th:only-of-type {\n",
       "        vertical-align: middle;\n",
       "    }\n",
       "\n",
       "    .dataframe tbody tr th {\n",
       "        vertical-align: top;\n",
       "    }\n",
       "\n",
       "    .dataframe thead th {\n",
       "        text-align: right;\n",
       "    }\n",
       "</style>\n",
       "<table border=\"1\" class=\"dataframe\">\n",
       "  <thead>\n",
       "    <tr style=\"text-align: right;\">\n",
       "      <th></th>\n",
       "      <th>Model</th>\n",
       "      <th>Rough-1 Precision</th>\n",
       "      <th>Rough-1 Recall</th>\n",
       "      <th>Rough-1 F-Score</th>\n",
       "      <th>Performance score</th>\n",
       "      <th>Rank</th>\n",
       "    </tr>\n",
       "  </thead>\n",
       "  <tbody>\n",
       "    <tr>\n",
       "      <th>0</th>\n",
       "      <td>LSA</td>\n",
       "      <td>0.6527</td>\n",
       "      <td>0.6438</td>\n",
       "      <td>0.6482</td>\n",
       "      <td>1.000000</td>\n",
       "      <td>1</td>\n",
       "    </tr>\n",
       "    <tr>\n",
       "      <th>1</th>\n",
       "      <td>TEXTRANK</td>\n",
       "      <td>0.4637</td>\n",
       "      <td>0.4383</td>\n",
       "      <td>0.4507</td>\n",
       "      <td>0.565242</td>\n",
       "      <td>3</td>\n",
       "    </tr>\n",
       "    <tr>\n",
       "      <th>2</th>\n",
       "      <td>T5</td>\n",
       "      <td>0.4615</td>\n",
       "      <td>0.4109</td>\n",
       "      <td>0.4347</td>\n",
       "      <td>0.531024</td>\n",
       "      <td>4</td>\n",
       "    </tr>\n",
       "    <tr>\n",
       "      <th>3</th>\n",
       "      <td>KL-SUM</td>\n",
       "      <td>0.4776</td>\n",
       "      <td>0.4383</td>\n",
       "      <td>0.4571</td>\n",
       "      <td>0.579585</td>\n",
       "      <td>2</td>\n",
       "    </tr>\n",
       "    <tr>\n",
       "      <th>4</th>\n",
       "      <td>LUHN'S METHOD</td>\n",
       "      <td>0.1829</td>\n",
       "      <td>0.2054</td>\n",
       "      <td>0.1935</td>\n",
       "      <td>0.000000</td>\n",
       "      <td>5</td>\n",
       "    </tr>\n",
       "  </tbody>\n",
       "</table>\n",
       "</div>"
      ],
      "text/plain": [
       "           Model  Rough-1 Precision  Rough-1 Recall  Rough-1 F-Score  \\\n",
       "0            LSA             0.6527          0.6438           0.6482   \n",
       "1       TEXTRANK             0.4637          0.4383           0.4507   \n",
       "2             T5             0.4615          0.4109           0.4347   \n",
       "3         KL-SUM             0.4776          0.4383           0.4571   \n",
       "4  LUHN'S METHOD             0.1829          0.2054           0.1935   \n",
       "\n",
       "   Performance score  Rank  \n",
       "0           1.000000     1  \n",
       "1           0.565242     3  \n",
       "2           0.531024     4  \n",
       "3           0.579585     2  \n",
       "4           0.000000     5  "
      ]
     },
     "execution_count": 11,
     "metadata": {},
     "output_type": "execute_result"
    }
   ],
   "source": [
    "import pandas as pd\n",
    "import matplotlib.pyplot as plt\n",
    "\n",
    "df = pd.read_csv(\"Output-102103080.csv\")\n",
    "df"
   ]
  },
  {
   "cell_type": "code",
   "execution_count": 12,
   "id": "aaab21a6",
   "metadata": {},
   "outputs": [
    {
     "data": {
      "image/png": "[encoded data removed]",
      "text/plain": [
       "<Figure size 720x432 with 1 Axes>"
      ]
     },
     "metadata": {
      "needs_background": "light"
     },
     "output_type": "display_data"
    }
   ],
   "source": [
    "df = df.sort_values(by='Rank')\n",
    "bar_width = 0.3\n",
    "bar_positions = range(len(df['Model']))\n",
    "fig, ax = plt.subplots(figsize=(10, 6))\n",
    "ax.bar([pos - bar_width for pos in bar_positions], df['Rough-1 Precision'], width=bar_width, label='Rough-1 Precision')\n",
    "ax.bar(bar_positions, df['Rough-1 Recall'], width=bar_width, label='Rough-1 Recall')\n",
    "ax.bar([pos + bar_width for pos in bar_positions], df['Rough-1 F-Score'], width=bar_width, label='Rough-1 F-Score')\n",
    "\n",
    "ax.set_xticks(bar_positions)\n",
    "ax.set_xticklabels(df['Model'])\n",
    "ax.set_xlabel('Models')\n",
    "ax.set_ylabel('Scores')\n",
    "ax.set_title('Models arranged in order of their TOPSIS Ranks')\n",
    "ax.legend()\n",
    "\n",
    "plt.tight_layout()\n",
    "plt.show()"
   ]
  },
  {
   "cell_type": "code",
   "execution_count": null,
   "id": "8c82b58a",
   "metadata": {},
   "outputs": [],
   "source": []
  }
 ],
 "metadata": {
  "kernelspec": {
   "display_name": "Python 3 (ipykernel)",
   "language": "python",
   "name": "python3"
  },
  "language_info": {
   "codemirror_mode": {
    "name": "ipython",
    "version": 3
   },
   "file_extension": ".py",
   "mimetype": "text/x-python",
   "name": "python",
   "nbconvert_exporter": "python",
   "pygments_lexer": "ipython3",
   "version": "3.9.12"
  }
 },
 "nbformat": 4,
 "nbformat_minor": 5
}
