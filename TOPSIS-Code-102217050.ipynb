{
 "cells": [
  {
   "cell_type": "code",
   "execution_count": 1,
   "id": "36ec15fb",
   "metadata": {},
   "outputs": [],
   "source": [
    "def TOPSIS(inpt, wt, sn, oupt):\n",
    "    import math as mt\n",
    "    import numpy as np\n",
    "    import pandas as pd\n",
    "    sq=[]\n",
    "    Vp=[]\n",
    "    Vn=[]\n",
    "    Sp=[]\n",
    "    Sn=[]\n",
    "    try:\n",
    "        df = pd.read_csv(inpt)\n",
    "    except FileNotFoundError:\n",
    "        return f\"Error: Incorrect File\"\n",
    "    num = wt.split(',')\n",
    "    wgt =[n.strip() for n in num]\n",
    "    for i in range(len(wgt)):\n",
    "        wgt[i]=float(wgt[i])\n",
    "    sign = sn.split(',')\n",
    "    sgn =[g.strip() for g in sign]\n",
    "    arr = df.values.T\n",
    "    v1=arr[1:]\n",
    "    v2=np.zeros_like(v1)\n",
    "    for i in range(len(v2)):\n",
    "        for j in range(len(v2[i])):\n",
    "            x=v1[i][j]\n",
    "            v2[i][j]=x**2\n",
    "        y=sum(v2[i])\n",
    "        y=mt.sqrt(y)\n",
    "        sq.append(y)\n",
    "        v1[i]=(v1[i]/sq[i])*wgt[i]\n",
    "    for i in range(len(v1)):\n",
    "        M=max(v1[i])\n",
    "        m=min(v1[i])\n",
    "        if sgn[i]==\"+\":\n",
    "            Vp.append(M)\n",
    "            Vn.append(m)\n",
    "        else:\n",
    "            Vp.append(m)\n",
    "            Vn.append(M)\n",
    "    v3=v1.T\n",
    "    for i in range (len(v3)):\n",
    "        a = sum((x - y) ** 2 for x, y in zip(v3[i], Vp))\n",
    "        Sp.append(mt.sqrt(a))\n",
    "        b = sum((x - y) ** 2 for x, y in zip(v3[i], Vn))\n",
    "        Sn.append(mt.sqrt(b))\n",
    "    Ssum=np.add(Sp, Sn)\n",
    "    pf=np.divide(Sn,Ssum)\n",
    "    er = {r: rank for rank, r in enumerate(sorted(pf, reverse=True), start=1)}\n",
    "    order = [er[r] for r in pf]\n",
    "    df['Performance score']=pf\n",
    "    df['Rank']=order\n",
    "    df.to_csv(oupt, index=False)\n",
    "    return \"File saved Successfully\""
   ]
  },
  {
   "cell_type": "code",
   "execution_count": 2,
   "id": "9ba45a0d",
   "metadata": {},
   "outputs": [],
   "source": [
    "inp=\"Data-102103080.csv\"\n",
    "wts=\"0.7,0.7,1\"\n",
    "sgn=\"+,+,+\"\n",
    "out=\"Output-102103080.csv\""
   ]
  },
  {
   "cell_type": "code",
   "execution_count": 3,
   "id": "5efb2ffc",
   "metadata": {},
   "outputs": [
    {
     "data": {
      "text/plain": [
       "'File saved Successfully'"
      ]
     },
     "execution_count": 3,
     "metadata": {},
     "output_type": "execute_result"
    }
   ],
   "source": [
    "TOPSIS(inp, wts, sgn, out)"
   ]
  }
 ],
 "metadata": {
  "kernelspec": {
   "display_name": "Python 3 (ipykernel)",
   "language": "python",
   "name": "python3"
  },
  "language_info": {
   "codemirror_mode": {
    "name": "ipython",
    "version": 3
   },
   "file_extension": ".py",
   "mimetype": "text/x-python",
   "name": "python",
   "nbconvert_exporter": "python",
   "pygments_lexer": "ipython3",
   "version": "3.9.12"
  }
 },
 "nbformat": 4,
 "nbformat_minor": 5
}
